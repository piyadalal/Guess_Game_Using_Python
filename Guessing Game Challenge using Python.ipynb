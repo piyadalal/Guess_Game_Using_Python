{
 "cells": [
  {
   "cell_type": "markdown",
   "metadata": {},
   "source": [
    "# Welcome to Guess Game Challenge"
   ]
  },
  {
   "cell_type": "markdown",
   "metadata": {},
   "source": [
    "### Step:1 Generating a number between 1 and 100 and store it in variable name \"num\" for user to guess it:"
   ]
  },
  {
   "cell_type": "code",
   "execution_count": 14,
   "metadata": {},
   "outputs": [
    {
     "name": "stdout",
     "output_type": "stream",
     "text": [
      "14\n"
     ]
    }
   ],
   "source": [
    "import random\n",
    "num=random.randint(1,100)\n",
    "print(num)"
   ]
  },
  {
   "cell_type": "markdown",
   "metadata": {},
   "source": [
    "### GAME INTRODUCTION AND RULES:"
   ]
  },
  {
   "cell_type": "code",
   "execution_count": 15,
   "metadata": {},
   "outputs": [
    {
     "name": "stdout",
     "output_type": "stream",
     "text": [
      "WELCOME TO GUESS THE NUMBER\n",
      "I will give you a number to guess between 1 and 100\n",
      "If your guess is greater than 10 from my number,you are COLD\n",
      "If your guess is within 10 of my number, you you're WARM\n",
      "If your guess is farther than your most recent guess, you're getting COLDER\n",
      "If your guess is closer than your most recent guess,you're getting WARMER\n",
      "LET'S GET IT STARTED!\n"
     ]
    }
   ],
   "source": [
    "print(\"WELCOME TO GUESS THE NUMBER\")\n",
    "print(\"I will give you a number to guess between 1 and 100\")\n",
    "print(\"If your guess is greater than 10 from my number,you are COLD\")\n",
    "print(\"If your guess is within 10 of my number, you you're WARM\")\n",
    "print(\"If your guess is farther than your most recent guess, you're getting COLDER\")\n",
    "print(\"If your guess is closer than your most recent guess,you're getting WARMER\")\n",
    "print(\"LET'S GET IT STARTED!\")"
   ]
  },
  {
   "cell_type": "markdown",
   "metadata": {},
   "source": [
    "### Step:2 Creating a list to store guesses:\n"
   ]
  },
  {
   "cell_type": "code",
   "execution_count": 16,
   "metadata": {},
   "outputs": [],
   "source": [
    "guess=[0]"
   ]
  },
  {
   "cell_type": "markdown",
   "metadata": {},
   "source": [
    "### Step:3 Taking the user guess as input:"
   ]
  },
  {
   "cell_type": "code",
   "execution_count": 18,
   "metadata": {},
   "outputs": [
    {
     "name": "stdout",
     "output_type": "stream",
     "text": [
      "Guess the Number between 1 and 100:20\n"
     ]
    }
   ],
   "source": [
    "while True:\n",
    "    user_guess=int(input(\"Guess the Number between 1 and 100:\"))\n",
    "    if user_guess < 1 or user_guess >100:\n",
    "        print(\"You are out of Bounds!! Please guess other number to get started.\")\n",
    "        continue\n",
    "    break"
   ]
  },
  {
   "cell_type": "markdown",
   "metadata": {},
   "source": [
    "#### Write a `while` loop that compares the player's guess to our number. If the player guesses correctly, break from the loop. Otherwise, tell the player if they're warmer or colder, and continue asking for guesses.\n",
    "\n",
    "Some hints:\n",
    "* it may help to sketch out all possible combinations on paper first!\n",
    "* you can use the `abs()` function to find the positive difference between two numbers\n",
    "* if you append all new guesses to the list, then the previous guess is given as `guesses[-2]`"
   ]
  },
  {
   "cell_type": "code",
   "execution_count": 20,
   "metadata": {},
   "outputs": [
    {
     "name": "stdout",
     "output_type": "stream",
     "text": [
      "Guess the Number between 1 and 100:20\n",
      "You are getting Colder!!\n",
      "Guess the Number between 1 and 100:30\n",
      "You are getting Colder!!\n",
      "Guess the Number between 1 and 100:10\n",
      "You are getting Warmer!!\n",
      "Guess the Number between 1 and 100:15\n",
      "You are getting Warmer!!\n",
      "Guess the Number between 1 and 100:13\n",
      "You are getting Colder!!\n",
      "Guess the Number between 1 and 100:14\n",
      "Congratulations!! You Guessed it only in 18 GUESSES!!\n"
     ]
    }
   ],
   "source": [
    "while True:\n",
    "\n",
    "    user_guess = int(input(\"Guess the Number between 1 and 100:\"))\n",
    "    \n",
    "    # Declaring the Winner:\n",
    "    if user_guess == num:\n",
    "        print(f'Congratulations!! You Guessed it only in {len(guess)} GUESSES!!')\n",
    "        break\n",
    "    \n",
    "    #Out of Bounds Guess:\n",
    "    if user_guess < 1 or user_guess > 100:\n",
    "        print('Out of Bound! Please try again: ')\n",
    "        continue\n",
    "    \n",
    "    \n",
    "        \n",
    "    # if guess is incorrect, add guess to the list\n",
    "    guess.append(user_guess)\n",
    "    \n",
    "    # when testing the first guess, guesses[-2]==0, which evaluates to False\n",
    "    # and brings us down to the second section\n",
    "    \n",
    "    if guess[-2]:  \n",
    "        if abs(num-user_guess) < abs(num-guess[-2]):\n",
    "            print('You are getting Warmer!!')\n",
    "        else:\n",
    "            print('You are getting Colder!!')\n",
    "   \n",
    "    else:\n",
    "        if abs(num-user_guess) <= 10:\n",
    "            print('Warm!')\n",
    "        else:\n",
    "            print('Cold!')"
   ]
  },
  {
   "cell_type": "code",
   "execution_count": null,
   "metadata": {},
   "outputs": [],
   "source": []
  }
 ],
 "metadata": {
  "kernelspec": {
   "display_name": "Python 3",
   "language": "python",
   "name": "python3"
  }
 },
 "nbformat": 4,
 "nbformat_minor": 2
}
